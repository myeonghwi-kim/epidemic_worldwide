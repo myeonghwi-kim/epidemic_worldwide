{
 "cells": [
  {
   "cell_type": "code",
   "execution_count": null,
   "metadata": {},
   "outputs": [],
   "source": [
    "from pytrends.request import TrendReq\n",
    "import pandas as pd\n",
    "import Collection\n",
    "import DBConnector\n",
    "import datetime"
   ]
  },
  {
   "cell_type": "code",
   "execution_count": null,
   "metadata": {},
   "outputs": [],
   "source": [
    "\n",
    "def loadTrends(nation, disease):\n",
    "    yesterday = datetime.date.today() - datetime.timedelta(days=1)\n",
    "    year_ago = yesterday - datetime.timedelta(days=365)\n",
    "    time = year_ago.strftime('%Y-%m-%d') + ' ' + yesterday.strftime('%Y-%m-%d')\n",
    "\n",
    "    abbNation = Collection.getAbbNation(nation)\n",
    "    pytrend = TrendReq()\n",
    "    if nation ==\"all\":\n",
    "        pytrend.build_payload(kw_list=[disease], cat=0, timeframe=time)\n",
    "    else :\n",
    "        pytrend.build_payload(kw_list=[disease], cat=0, timeframe=time, geo=abbNation)\n",
    "\n",
    "    contentdata = pytrend.interest_over_time()\n",
    "    if contentdata.empty:\n",
    "        return {\"overtime\": {\"times\": ['no data'], \"values\": [0]},\n",
    "                \"region\": {\"regions\": ['no data'], \"values\": [0]}}\n",
    "\n",
    "    contentdata = contentdata.iloc[:,:1]\n",
    "    dataframe = pd.DataFrame(contentdata)\n",
    "    times = dataframe[disease].index.strftime('%Y%m%d').tolist()\n",
    "    values = dataframe[disease].values.tolist()\n",
    "    overTime = {\"times\": times, \"values\": values}\n",
    "\n",
    "    regiondata = pytrend.interest_by_region()\n",
    "    if regiondata.empty:\n",
    "        return {\"overtime\": overTime,\n",
    "                \"region\": {\"regions\": ['no data'], \"values\": [0]}}\n",
    "\n",
    "    dataframe2 = pd.DataFrame(regiondata)\n",
    "    regions = dataframe2[disease].index.tolist()\n",
    "    values = dataframe2[disease].values.tolist()\n",
    "    region = {\"regions\": regions, \"values\": values}\n",
    "\n",
    "    result = {\"overtime\": overTime, \"region\": region}\n",
    "\n",
    "    return result"
   ]
  },
  {
   "cell_type": "code",
   "execution_count": null,
   "metadata": {},
   "outputs": [],
   "source": [
    "if __name__ == '__main__':\n",
    "    nations = Collection.getNationList()\n",
    "    nations.append('all')\n",
    "    today = datetime.date.today()\n",
    "\n",
    "    try:\n",
    "        for nation in nations:\n",
    "            for disease in diseaselist:\n",
    "                yearTrends(nation, disease)\n",
    "                regionTrends(nation, disease)\n",
    "\n",
    "    except Exception as e:\n",
    "        time = datetime.datetime.now()\n",
    "        exceptionFile = open(EXCEPTION_PATH + today.strftime('%Y%m%d') + '_' + 'exception.txt', 'a', encoding='utf8')\n",
    "        exceptionFile.write(str(time) + '\\t' + e.__str__() + '\\n')\n"
   ]
  },
  {
   "cell_type": "code",
   "execution_count": null,
   "metadata": {},
   "outputs": [],
   "source": []
  }
 ],
 "metadata": {
  "kernelspec": {
   "display_name": "Python 3",
   "language": "python",
   "name": "python3"
  },
  "language_info": {
   "codemirror_mode": {
    "name": "ipython",
    "version": 3
   },
   "file_extension": ".py",
   "mimetype": "text/x-python",
   "name": "python",
   "nbconvert_exporter": "python",
   "pygments_lexer": "ipython3",
   "version": "3.8.3"
  }
 },
 "nbformat": 4,
 "nbformat_minor": 4
}
